{
 "cells": [
  {
   "cell_type": "code",
   "execution_count": 7,
   "metadata": {},
   "outputs": [
    {
     "ename": "ModuleNotFoundError",
     "evalue": "No module named 'src'",
     "output_type": "error",
     "traceback": [
      "\u001b[1;31m---------------------------------------------------------------------------\u001b[0m",
      "\u001b[1;31mModuleNotFoundError\u001b[0m                       Traceback (most recent call last)",
      "Cell \u001b[1;32mIn[7], line 1\u001b[0m\n\u001b[1;32m----> 1\u001b[0m \u001b[38;5;28;01mfrom\u001b[39;00m \u001b[38;5;21;01msrc\u001b[39;00m\u001b[38;5;21;01m.\u001b[39;00m\u001b[38;5;21;01mdata_processing\u001b[39;00m \u001b[38;5;28;01mimport\u001b[39;00m carregar_dados\n\u001b[0;32m      2\u001b[0m \u001b[38;5;28;01mfrom\u001b[39;00m \u001b[38;5;21;01msrc\u001b[39;00m\u001b[38;5;21;01m.\u001b[39;00m\u001b[38;5;21;01manalysis\u001b[39;00m \u001b[38;5;28;01mimport\u001b[39;00m calcular_total_vendas, calcular_vendas_por_cliente\n\u001b[0;32m      3\u001b[0m \u001b[38;5;28;01mfrom\u001b[39;00m \u001b[38;5;21;01msrc\u001b[39;00m\u001b[38;5;21;01m.\u001b[39;00m\u001b[38;5;21;01mvisualization\u001b[39;00m \u001b[38;5;28;01mimport\u001b[39;00m plot_total_vendas, plot_vendas_por_cliente\n",
      "\u001b[1;31mModuleNotFoundError\u001b[0m: No module named 'src'"
     ]
    }
   ],
   "source": [
    "from src.data_processing import carregar_dados\n",
    "from src.analysis import calcular_total_vendas, calcular_vendas_por_cliente\n",
    "from src.visualization import plot_total_vendas, plot_vendas_por_cliente\n",
    "\n",
    "# Carregar dados\n",
    "df_vendas, df_produtos, df_clientes = carregar_dados('data/vendas.csv', 'data/produtos.csv', 'data/clientes.csv')\n",
    "\n",
    "# Verificar se os dados foram carregados corretamente\n",
    "if df_vendas is not None and df_produtos is not None:\n",
    "    # Analisar dados\n",
    "    df_vendas_total = calcular_total_vendas(df_vendas, df_produtos)\n",
    "    df_vendas_total_clientes = calcular_vendas_por_cliente(df_vendas, df_clientes)\n",
    "\n",
    "    # Visualizar resultados\n",
    "    plot_total_vendas(df_vendas_total)\n",
    "    plot_vendas_por_cliente(df_vendas_total_clientes)\n",
    "else:\n",
    "    print(\"Erro ao carregar os dados.\")\n"
   ]
  },
  {
   "cell_type": "markdown",
   "metadata": {},
   "source": []
  },
  {
   "cell_type": "code",
   "execution_count": null,
   "metadata": {},
   "outputs": [],
   "source": []
  },
  {
   "cell_type": "code",
   "execution_count": null,
   "metadata": {},
   "outputs": [],
   "source": []
  }
 ],
 "metadata": {
  "kernelspec": {
   "display_name": "venv",
   "language": "python",
   "name": "python3"
  },
  "language_info": {
   "codemirror_mode": {
    "name": "ipython",
    "version": 3
   },
   "file_extension": ".py",
   "mimetype": "text/x-python",
   "name": "python",
   "nbconvert_exporter": "python",
   "pygments_lexer": "ipython3",
   "version": "3.12.4"
  }
 },
 "nbformat": 4,
 "nbformat_minor": 2
}
